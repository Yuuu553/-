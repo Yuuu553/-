{
  "nbformat": 4,
  "nbformat_minor": 0,
  "metadata": {
    "colab": {
      "provenance": [],
      "authorship_tag": "ABX9TyPaMe+aURHBtbkY78f4YXc4",
      "include_colab_link": true
    },
    "kernelspec": {
      "name": "python3",
      "display_name": "Python 3"
    },
    "language_info": {
      "name": "python"
    }
  },
  "cells": [
    {
      "cell_type": "markdown",
      "metadata": {
        "id": "view-in-github",
        "colab_type": "text"
      },
      "source": [
        "<a href=\"https://colab.research.google.com/github/Yuuu553/-/blob/main/%E6%83%85%E7%B7%92%E6%97%A5%E8%A8%98ver1.ipynb\" target=\"_parent\"><img src=\"https://colab.research.google.com/assets/colab-badge.svg\" alt=\"Open In Colab\"/></a>"
      ]
    },
    {
      "cell_type": "code",
      "execution_count": null,
      "metadata": {
        "collapsed": true,
        "id": "N8Gfvaw1dEOM"
      },
      "outputs": [],
      "source": [
        "!pip install gradio\n",
        "import gradio as gr\n",
        "import datetime\n",
        "\n",
        "# 全域變數儲存記錄\n",
        "records = []\n",
        "\n",
        "def save_record(emotion, note):\n",
        "    if not emotion or not note.strip():\n",
        "        return \"請選擇情緒並填寫感受！\", []\n",
        "\n",
        "    record = {\n",
        "        \"emotion\": emotion,\n",
        "        \"note\": note.strip(),\n",
        "        \"time\": datetime.datetime.now().strftime(\"%Y-%m-%d %H:%M:%S\"),\n",
        "    }\n",
        "    records.append(record)\n",
        "\n",
        "    #回傳訊息.記錄\n",
        "    return f\"記錄已儲存！ 情緒: {emotion}\", [\n",
        "        [r[\"emotion\"], r[\"note\"], r[\"time\"]] for r in records\n",
        "    ]\n",
        "\n",
        "def clear_records():\n",
        "    global records\n",
        "    records = []\n",
        "    return \"所有記錄已清除！\", []\n",
        "\n",
        "#Gradio\n",
        "with gr.Blocks() as diary_app:\n",
        "    gr.Markdown(\"# 情緒紀錄日記\")\n",
        "\n",
        "    with gr.Row():\n",
        "        with gr.Column():\n",
        "            gr.Markdown(\"### 記錄你的情緒\")\n",
        "            emotion_buttons = gr.Radio(\n",
        "                [\"喜\", \"怒\", \"哀\", \"樂\"], label=\"選擇情緒\", interactive=True\n",
        "            )\n",
        "            note_input = gr.Textbox(\n",
        "                label=\"寫下你的感受...\", lines=4, placeholder=\"請輸入文字\"\n",
        "            )\n",
        "            save_button = gr.Button(\"儲存記錄\")\n",
        "\n",
        "        with gr.Column():\n",
        "            gr.Markdown(\"### 你的情緒記錄\")\n",
        "            history_display = gr.Dataframe(\n",
        "                headers=[\"情緒\", \"感受\", \"時間\"], interactive=False\n",
        "            )\n",
        "            clear_button = gr.Button(\"清除所有記錄\")\n",
        "\n",
        "\n",
        "    save_button.click(\n",
        "        save_record,\n",
        "        inputs=[emotion_buttons, note_input],\n",
        "        outputs=[gr.Text(label=\"訊息\"), history_display],\n",
        "    )\n",
        "    clear_button.click(\n",
        "        clear_records,\n",
        "        inputs=None,\n",
        "        outputs=[gr.Text(label=\"訊息\"), history_display],\n",
        "    )\n",
        "\n",
        "#啟動\n",
        "diary_app.launch()\n"
      ]
    }
  ]
}